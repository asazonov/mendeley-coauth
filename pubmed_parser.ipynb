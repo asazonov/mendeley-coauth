{
 "cells": [
  {
   "cell_type": "code",
   "execution_count": 4,
   "metadata": {
    "collapsed": false
   },
   "outputs": [],
   "source": [
    "from Bio import Entrez\n",
    "import os\n",
    "import json\n",
    "import sys\n",
    "\n",
    "Entrez.email = 'ale@gmail.com'\n",
    "    \n",
    "def fetch_xml(pmid):\n",
    "    handle = Entrez.efetch(db='pubmed', id=pmid, retmode='xml')\n",
    "    xml_data = Entrez.read(handle)[0]\n",
    "    try:\n",
    "        return xml_data\n",
    "    except IndexError:\n",
    "        return None\n",
    "\n",
    "def doi_to_pmid(doi):\n",
    "    handle = Entrez.esearch(db=\"pubmed\", retmax=100, term=doi)\n",
    "    record = Entrez.read(handle)\n",
    "    handle.close()\n",
    "    try:\n",
    "        return record['IdList'][0]\n",
    "    except IndexError:\n",
    "        return None\n",
    "\n",
    "def process_mendeley_record(record):\n",
    "    doi = record['doi']\n",
    "    pmid = doi_to_pmid(doi)\n",
    "    if pmid != None:\n",
    "        pubmed_xml = fetch_xml(pmid)\n",
    "\n",
    "        # Process authors \n",
    "        authors = []\n",
    "        if 'AuthorList' in pubmed_xml['MedlineCitation']['Article']:\n",
    "            for author in pubmed_xml['MedlineCitation']['Article']['AuthorList']:\n",
    "                if 'ForeName' in author:\n",
    "                    fullname = author['ForeName'] + \" \" + author['LastName']\n",
    "                elif 'LastName' in author:\n",
    "                    fullname = author['LastName']\n",
    "                else:\n",
    "                    return None\n",
    "                     \n",
    "                authors += [fullname]\n",
    "        else: \n",
    "            return None\n",
    "        \n",
    "         # Process keywords\n",
    "        keywords = []\n",
    "\n",
    "        # Process keywords from Mendeley\n",
    "        keywords += [x.lower() for x in record['keywords']]\n",
    "\n",
    "        # Process keyboards from mesh\n",
    "        if 'MeshHeadingList' in list(pubmed_xml['MedlineCitation']):\n",
    "            mesh_headings = list(pubmed_xml['MedlineCitation']['MeshHeadingList'])\n",
    "            for mesh_heading in mesh_headings:\n",
    "                if mesh_heading['DescriptorName'].attributes['MajorTopicYN'] == 'Y':\n",
    "                    keywords += [str(mesh_heading['DescriptorName']).lower()]\n",
    "                qualifier = mesh_heading['QualifierName']\n",
    "                if len(qualifier) > 0 and qualifier[0].attributes['MajorTopicYN'] == 'Y':\n",
    "                    keywords += [str(qualifier[0]).lower()]\n",
    "\n",
    "        # Process keywords from Pubmed\n",
    "        if 'KeywordList' in pubmed_xml['MedlineCitation'] and len(pubmed_xml['MedlineCitation']['KeywordList']) > 0:\n",
    "            for keyword in pubmed_xml['MedlineCitation']['KeywordList'][0]:\n",
    "                keywords += [keyword.lower()]\n",
    "        \n",
    "        keywords = list(set(keywords))\n",
    "        \n",
    "        return {'authors':authors, 'keywords':keywords}\n",
    "    else:\n",
    "        return None"
   ]
  },
  {
   "cell_type": "code",
   "execution_count": 6,
   "metadata": {
    "collapsed": false
   },
   "outputs": [
    {
     "name": "stdout",
     "output_type": "stream",
     "text": [
      "fluorescenceresonanceenergytransfer.json\n"
     ]
    }
   ],
   "source": [
    "def main():\n",
    "    #for i in os.listdir('./data'):\n",
    "    #    if i.endswith(\".json\"): \n",
    "    json_file = open('./data/' + sys.argv[1])\n",
    "    print(i)\n",
    "    mendeley_data = json.load(json_file)\n",
    "    output_file = open('./data_out/' + i, 'w')\n",
    "    for i, record in enumerate(mendeley_data):\n",
    "        record_output = process_mendeley_record(record)\n",
    "        if record_output is not None:\n",
    "            output_file.write(str(record_output) + '\\n')\n",
    "            if i % 100:\n",
    "                output_file.flush()\n",
    "                print(i)\n",
    "    output_file.close()\n",
    "#             continue\n",
    "#         else:\n",
    "#             continue\n",
    "    \n",
    "    \n",
    "if __name__ == \"__main__\":\n",
    "    main()"
   ]
  }
 ],
 "metadata": {
  "kernelspec": {
   "display_name": "Python 3",
   "language": "python",
   "name": "python3"
  },
  "language_info": {
   "codemirror_mode": {
    "name": "ipython",
    "version": 3
   },
   "file_extension": ".py",
   "mimetype": "text/x-python",
   "name": "python",
   "nbconvert_exporter": "python",
   "pygments_lexer": "ipython3",
   "version": "3.5.1"
  }
 },
 "nbformat": 4,
 "nbformat_minor": 0
}
