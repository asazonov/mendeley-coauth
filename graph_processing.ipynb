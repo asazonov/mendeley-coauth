{
 "cells": [
  {
   "cell_type": "code",
   "execution_count": 1,
   "metadata": {
    "collapsed": false
   },
   "outputs": [
    {
     "name": "stdout",
     "output_type": "stream",
     "text": [
      "Populating the interactive namespace from numpy and matplotlib\n"
     ]
    }
   ],
   "source": [
    "import networkx as nx\n",
    "import json\n",
    "import os\n",
    "import ast\n",
    "import itertools\n",
    "%pylab inline"
   ]
  },
  {
   "cell_type": "code",
   "execution_count": 2,
   "metadata": {
    "collapsed": true
   },
   "outputs": [],
   "source": [
    "def process_record(G, keyword_dict, record):\n",
    "    authors = record['authors']\n",
    "    keywords = record['keywords']\n",
    "    for author in authors:\n",
    "        if G.has_node(author):\n",
    "            keyword_dict(author).update(set(keywords)) \n",
    "        else: \n",
    "            G.add_node(author)\n",
    "            keyword_dict[author] = set(keywords)\n",
    "    \n",
    "    combinations = list(itertools.combinations(authors, 2))\n",
    "    for combination in combinations:\n",
    "        G.add_edge(combination[0], combination[1])\n",
    "    return G, keyword_dict"
   ]
  },
  {
   "cell_type": "code",
   "execution_count": 3,
   "metadata": {
    "collapsed": false
   },
   "outputs": [
    {
     "ename": "ValueError",
     "evalue": "max() arg is an empty sequence",
     "output_type": "error",
     "traceback": [
      "\u001b[0;31m---------------------------------------------------------------------------\u001b[0m",
      "\u001b[0;31mValueError\u001b[0m                                Traceback (most recent call last)",
      "\u001b[0;32m<ipython-input-3-c4b29917f65b>\u001b[0m in \u001b[0;36m<module>\u001b[0;34m()\u001b[0m\n\u001b[1;32m     11\u001b[0m             \u001b[0mrecord\u001b[0m \u001b[0;34m=\u001b[0m \u001b[0mast\u001b[0m\u001b[0;34m.\u001b[0m\u001b[0mliteral_eval\u001b[0m\u001b[0;34m(\u001b[0m\u001b[0mrecord_str\u001b[0m\u001b[0;34m)\u001b[0m\u001b[0;34m\u001b[0m\u001b[0m\n\u001b[1;32m     12\u001b[0m             \u001b[0mG\u001b[0m \u001b[0;34m=\u001b[0m \u001b[0mprocess_record\u001b[0m\u001b[0;34m(\u001b[0m\u001b[0mG\u001b[0m\u001b[0;34m,\u001b[0m \u001b[0mkeyword_dict\u001b[0m\u001b[0;34m,\u001b[0m \u001b[0mrecord\u001b[0m\u001b[0;34m)\u001b[0m\u001b[0;34m\u001b[0m\u001b[0m\n\u001b[0;32m---> 13\u001b[0;31m \u001b[0mG\u001b[0m \u001b[0;34m=\u001b[0m\u001b[0mmax\u001b[0m\u001b[0;34m(\u001b[0m\u001b[0mnx\u001b[0m\u001b[0;34m.\u001b[0m\u001b[0mconnected_component_subgraphs\u001b[0m\u001b[0;34m(\u001b[0m\u001b[0mG\u001b[0m\u001b[0;34m)\u001b[0m\u001b[0;34m,\u001b[0m \u001b[0mkey\u001b[0m\u001b[0;34m=\u001b[0m\u001b[0mlen\u001b[0m\u001b[0;34m)\u001b[0m\u001b[0;34m\u001b[0m\u001b[0m\n\u001b[0m\u001b[1;32m     14\u001b[0m \u001b[0mprint\u001b[0m\u001b[0;34m(\u001b[0m\u001b[0mG\u001b[0m\u001b[0;34m.\u001b[0m\u001b[0mnumber_of_edges\u001b[0m\u001b[0;34m(\u001b[0m\u001b[0;34m)\u001b[0m\u001b[0;34m)\u001b[0m\u001b[0;34m\u001b[0m\u001b[0m\n\u001b[1;32m     15\u001b[0m \u001b[0mplt\u001b[0m\u001b[0;34m.\u001b[0m\u001b[0mfigure\u001b[0m\u001b[0;34m(\u001b[0m\u001b[0;36m3\u001b[0m\u001b[0;34m,\u001b[0m\u001b[0mfigsize\u001b[0m\u001b[0;34m=\u001b[0m\u001b[0;34m(\u001b[0m\u001b[0;36m30\u001b[0m\u001b[0;34m,\u001b[0m\u001b[0;36m30\u001b[0m\u001b[0;34m)\u001b[0m\u001b[0;34m)\u001b[0m\u001b[0;34m\u001b[0m\u001b[0m\n",
      "\u001b[0;31mValueError\u001b[0m: max() arg is an empty sequence"
     ]
    }
   ],
   "source": [
    "#def main():\n",
    "G = nx.Graph()\n",
    "keyword_dict = {}\n",
    "for i in os.listdir('./data_out'):\n",
    "    if i.endswith(\"_t.json\"): \n",
    "        print(i)\n",
    "        coauthor_file = open('./data_out/' + i)\n",
    "        coauthor_records = coauthor_file.read().splitlines()\n",
    "        for record_str in coauthor_records:\n",
    "            #print(record_str)\n",
    "            record = ast.literal_eval(record_str)\n",
    "            G = process_record(G, keyword_dict, record)\n",
    "#G =max(nx.connected_component_subgraphs(G), key=len)\n",
    "print(G.number_of_edges())\n",
    "plt.figure(3,figsize=(30,30)) \n",
    "#nx.draw(G, node_size=0.1, figsize=(20,20))\n",
    "plt.draw()\n",
    "#if __name__ == \"__main__\":\n",
    "#    main()"
   ]
  },
  {
   "cell_type": "code",
   "execution_count": 14,
   "metadata": {
    "collapsed": false
   },
   "outputs": [
    {
     "data": {
      "text/plain": [
       "{'A W Edith Chan': 0.2967032967032967,\n",
       " 'Aaron Riechers': 0.2967032967032967,\n",
       " 'Alan Hudson': 0.04395604395604396,\n",
       " 'Amit P Sheth': 0.05494505494505495,\n",
       " 'Andrej Sali': 0.2967032967032967,\n",
       " 'Andrew L Hopkins': 0.34065934065934067,\n",
       " 'Andrew M Davis': 0.02197802197802198,\n",
       " 'Anna Gaulton': 0.05494505494505495,\n",
       " 'Antonis Loizou': 0.05494505494505495,\n",
       " 'Arnab Pain': 0.2967032967032967,\n",
       " 'Barbara Zdrazil': 0.05494505494505495,\n",
       " 'Bernadette Ramirez': 0.06593406593406594,\n",
       " 'Bhushan K Bonde': 0.08791208791208792,\n",
       " 'Bissan Al-Lazikani': 0.34065934065934067,\n",
       " 'Brian Springthorpe': 0.01098901098901099,\n",
       " 'Bryn I Williams-Jones': 0.07692307692307693,\n",
       " 'Bryn Williams-Jones': 0.02197802197802198,\n",
       " 'Charles H Reynolds': 0.04395604395604396,\n",
       " 'Christiane Hertz-Fowler': 0.2967032967032967,\n",
       " 'Christine Chichester': 0.1208791208791209,\n",
       " 'Christophe L M J Verlinde': 0.2967032967032967,\n",
       " 'Cory R Brouwer': 0.07692307692307693,\n",
       " 'Daniela Digles': 0.05494505494505495,\n",
       " 'David A Fidock': 0.04395604395604396,\n",
       " 'David C Rees': 0.04395604395604396,\n",
       " 'David J Dow': 0.05494505494505495,\n",
       " 'David J Wild': 0.05494505494505495,\n",
       " 'David S Roos': 0.2967032967032967,\n",
       " 'Dhanasekaran Shanmugam': 0.2967032967032967,\n",
       " 'Eric M Gifford': 0.05494505494505495,\n",
       " 'Feng Chen': 0.2967032967032967,\n",
       " 'Fernán Agüero': 0.2967032967032967,\n",
       " 'Foluke Fakorede': 0.04395604395604396,\n",
       " 'Fouad Yousif': 0.02197802197802198,\n",
       " 'Frederick S Buckner': 0.2967032967032967,\n",
       " 'Gaia V Paolini': 0.2967032967032967,\n",
       " 'Gerard J Kleywegt': 0.02197802197802198,\n",
       " 'Gergely M Makara': 0.01098901098901099,\n",
       " 'Gregg McAllister': 0.2967032967032967,\n",
       " 'Gregory J Crowther': 0.2967032967032967,\n",
       " 'György M Keserü': 0.05494505494505495,\n",
       " 'Ian Dix': 0.07692307692307693,\n",
       " 'Ian M Carruthers': 0.2967032967032967,\n",
       " 'James P McCarter': 0.02197802197802198,\n",
       " 'Jessica J Vamathevan': 0.05494505494505495,\n",
       " 'John P Overington': 0.3516483516483517,\n",
       " 'Joseph E Tym': 0.04395604395604396,\n",
       " 'Julie Huxley-Jones': 0.02197802197802198,\n",
       " 'Lee Harland': 0.2087912087912088,\n",
       " 'Linda Zander Balderud': 0.05494505494505495,\n",
       " 'Maria A Doyle': 0.2967032967032967,\n",
       " 'Marie-Annick Mouries': 0.04395604395604396,\n",
       " 'Marie-Annick Mouriès': 0.03296703296703297,\n",
       " 'Mark D Halling-Brown': 0.04395604395604396,\n",
       " 'Martin Aslett': 0.2967032967032967,\n",
       " 'Mary Bendig': 0.03296703296703297,\n",
       " 'Matthew Berriman': 0.3186813186813187,\n",
       " 'Matthew D Hall': 0.1098901098901099,\n",
       " 'Michael Kron': 0.02197802197802198,\n",
       " 'Michael R Barnes': 0.08791208791208792,\n",
       " 'Michael S Lajiness': 0.05494505494505495,\n",
       " 'Mishal N Patel': 0.04395604395604396,\n",
       " 'Nalini A L Mehta': 0.05494505494505495,\n",
       " 'Natalie S Buchan': 0.03296703296703297,\n",
       " 'Ola Engkvist': 0.05494505494505495,\n",
       " 'Pascale Gaudet': 0.01098901098901099,\n",
       " 'Paul D Leeson': 0.06593406593406594,\n",
       " 'Paul Groth': 0.05494505494505495,\n",
       " 'Paul Workman': 0.04395604395604396,\n",
       " 'Peter M Woollard': 0.05494505494505495,\n",
       " 'Philip J Rosenthal': 0.04395604395604396,\n",
       " 'Reto Brun': 0.04395604395604396,\n",
       " 'Richard Pink': 0.03296703296703297,\n",
       " 'Robert G Ridley': 0.01098901098901099,\n",
       " 'Robert K Campbell': 0.2967032967032967,\n",
       " 'Ronald Siebes': 0.05494505494505495,\n",
       " 'Samiul Hasan': 0.03296703296703297,\n",
       " 'Santiago Carmona': 0.2967032967032967,\n",
       " 'Sara Lustigman': 0.02197802197802198,\n",
       " 'Scott Thomas': 0.07692307692307693,\n",
       " 'Simon L Croft': 0.04395604395604396,\n",
       " 'Simon Townson': 0.04395604395604396,\n",
       " 'Solomon Nwaka': 0.40659340659340665,\n",
       " 'Stephanie Van Horn': 0.05494505494505495,\n",
       " 'Stephen A St-Gallay': 0.03296703296703297,\n",
       " 'Steven M Foord': 0.08791208791208792,\n",
       " 'Stuart A Ralph': 0.2967032967032967,\n",
       " 'Takashi Suzuki': 0.2967032967032967,\n",
       " 'Ursula Pieper': 0.2967032967032967,\n",
       " 'Wesley C Van Voorhis': 0.2967032967032967,\n",
       " 'William Loging': 0.02197802197802198,\n",
       " 'Ying Ding': 0.05494505494505495}"
      ]
     },
     "execution_count": 14,
     "metadata": {},
     "output_type": "execute_result"
    }
   ],
   "source": [
    "nx.degree_centrality(G)"
   ]
  },
  {
   "cell_type": "code",
   "execution_count": null,
   "metadata": {
    "collapsed": true
   },
   "outputs": [],
   "source": []
  }
 ],
 "metadata": {
  "kernelspec": {
   "display_name": "Python 3",
   "language": "python",
   "name": "python3"
  },
  "language_info": {
   "codemirror_mode": {
    "name": "ipython",
    "version": 3
   },
   "file_extension": ".py",
   "mimetype": "text/x-python",
   "name": "python",
   "nbconvert_exporter": "python",
   "pygments_lexer": "ipython3",
   "version": "3.5.1"
  }
 },
 "nbformat": 4,
 "nbformat_minor": 0
}
