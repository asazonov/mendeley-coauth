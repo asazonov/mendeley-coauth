{
 "cells": [
  {
   "cell_type": "code",
   "execution_count": 8,
   "metadata": {
    "collapsed": false
   },
   "outputs": [],
   "source": [
    "from Bio import Entrez\n",
    "\n",
    "Entrez.email = 'aleksejs.sazonovs@gmail.com'\n",
    "    \n",
    "def print_abstract(pmid):\n",
    "    handle = Entrez.efetch(db='pubmed', id=pmid, retmode='text', rettype='abstract')\n",
    "    return handle.read()"
   ]
  },
  {
   "cell_type": "code",
   "execution_count": 9,
   "metadata": {
    "collapsed": false
   },
   "outputs": [
    {
     "data": {
      "text/plain": [
       "'\\n1. Biochem Pharmacol. 1975 Sep 1;24(17):1639-41.\\n\\nDigitoxin metabolism by rat liver microsomes.\\n\\nSchmoldt A, Benthe HF, Haberland G.\\n\\nPMID: 10  [PubMed - indexed for MEDLINE]\\n\\n\\n2. Biochem Biophys Res Commun. 1975 Dec 15;67(4):1527-36.\\n\\nBeef liver L-Glutamate dehydrogenase mechanism: presteady state study of the\\ncatalytic reduction of 2.oxoglutarate by NADPH.\\n\\nJallon JM, Risler Y, Iwatsubo M.\\n\\nPMID: 1038  [PubMed - indexed for MEDLINE]\\n\\n\\n3. Urol Int. 1975;30(6):446-54.\\n\\nCharacteristics of renovascular hypertension in Japan.\\n\\nHidai H.\\n\\nPMID: 838  [PubMed - indexed for MEDLINE]\\n\\n'"
      ]
     },
     "execution_count": 9,
     "metadata": {},
     "output_type": "execute_result"
    }
   ],
   "source": [
    "print_abstract('10.1038/nrd838')"
   ]
  },
  {
   "cell_type": "code",
   "execution_count": 46,
   "metadata": {
    "collapsed": true
   },
   "outputs": [],
   "source": [
    "from Bio.Entrez import efetch, read\n",
    "\n",
    "def fetch_abstract(pmid):\n",
    "    handle = efetch(db='pubmed', id=pmid, retmode='xml')\n",
    "    xml_data = read(handle)[0]\n",
    "    try:\n",
    "        article = xml_data['MedlineCitation']['Article']\n",
    "        abstract = article['Abstract']['AbstractText'][0]\n",
    "        return xml_data\n",
    "    except IndexError:\n",
    "        return None"
   ]
  },
  {
   "cell_type": "code",
   "execution_count": 31,
   "metadata": {
    "collapsed": false
   },
   "outputs": [
    {
     "ename": "KeyError",
     "evalue": "'Abstract'",
     "output_type": "error",
     "traceback": [
      "\u001b[0;31m---------------------------------------------------------------------------\u001b[0m",
      "\u001b[0;31mKeyError\u001b[0m                                  Traceback (most recent call last)",
      "\u001b[0;32m<ipython-input-31-465fa40b4e32>\u001b[0m in \u001b[0;36m<module>\u001b[0;34m()\u001b[0m\n\u001b[0;32m----> 1\u001b[0;31m \u001b[0mfetch_abstract\u001b[0m\u001b[0;34m(\u001b[0m\u001b[0;34m'10.1038/nrd838'\u001b[0m\u001b[0;34m)\u001b[0m\u001b[0;34m\u001b[0m\u001b[0m\n\u001b[0m",
      "\u001b[0;32m<ipython-input-30-d4917a540847>\u001b[0m in \u001b[0;36mfetch_abstract\u001b[0;34m(pmid)\u001b[0m\n\u001b[1;32m      6\u001b[0m     \u001b[0;32mtry\u001b[0m\u001b[0;34m:\u001b[0m\u001b[0;34m\u001b[0m\u001b[0m\n\u001b[1;32m      7\u001b[0m         \u001b[0marticle\u001b[0m \u001b[0;34m=\u001b[0m \u001b[0mxml_data\u001b[0m\u001b[0;34m[\u001b[0m\u001b[0;34m'MedlineCitation'\u001b[0m\u001b[0;34m]\u001b[0m\u001b[0;34m[\u001b[0m\u001b[0;34m'Article'\u001b[0m\u001b[0;34m]\u001b[0m\u001b[0;34m\u001b[0m\u001b[0m\n\u001b[0;32m----> 8\u001b[0;31m         \u001b[0mabstract\u001b[0m \u001b[0;34m=\u001b[0m \u001b[0marticle\u001b[0m\u001b[0;34m[\u001b[0m\u001b[0;34m'Abstract'\u001b[0m\u001b[0;34m]\u001b[0m\u001b[0;34m[\u001b[0m\u001b[0;34m'AbstractText'\u001b[0m\u001b[0;34m]\u001b[0m\u001b[0;34m[\u001b[0m\u001b[0;36m0\u001b[0m\u001b[0;34m]\u001b[0m\u001b[0;34m\u001b[0m\u001b[0m\n\u001b[0m\u001b[1;32m      9\u001b[0m         \u001b[0;32mreturn\u001b[0m \u001b[0mabstract\u001b[0m\u001b[0;34m\u001b[0m\u001b[0m\n\u001b[1;32m     10\u001b[0m     \u001b[0;32mexcept\u001b[0m \u001b[0mIndexError\u001b[0m\u001b[0;34m:\u001b[0m\u001b[0;34m\u001b[0m\u001b[0m\n",
      "\u001b[0;31mKeyError\u001b[0m: 'Abstract'"
     ]
    }
   ],
   "source": [
    "fetch_abstract('10.1038/nrd838')"
   ]
  },
  {
   "cell_type": "code",
   "execution_count": 50,
   "metadata": {
    "collapsed": true
   },
   "outputs": [],
   "source": [
    "from Bio import Entrez\n",
    "Entrez.email = \"Your.Name.Here@example.org\"\n",
    "handle = Entrez.esearch(db=\"pubmed\", retmax=100, term=\"10.1007/s11306-015-0838-z\")\n",
    "record = Entrez.read(handle)\n",
    "handle.close()"
   ]
  },
  {
   "cell_type": "code",
   "execution_count": 51,
   "metadata": {
    "collapsed": false
   },
   "outputs": [
    {
     "data": {
      "text/plain": [
       "['26491426']"
      ]
     },
     "execution_count": 51,
     "metadata": {},
     "output_type": "execute_result"
    }
   ],
   "source": [
    "record['IdList']"
   ]
  },
  {
   "cell_type": "code",
   "execution_count": 52,
   "metadata": {
    "collapsed": false
   },
   "outputs": [
    {
     "data": {
      "text/plain": [
       "{'PubmedData': {'PublicationStatus': 'ppublish', 'ArticleIdList': [StringElement('10.1007/s11306-015-0838-z', attributes={'IdType': 'doi'}), StringElement('838', attributes={'IdType': 'pii'}), StringElement('26491426', attributes={'IdType': 'pubmed'}), StringElement('PMC4605990', attributes={'IdType': 'pmc'})], 'History': [DictElement({'Month': '5', 'Day': '1', 'Year': '2015'}, attributes={'PubStatus': 'received'}), DictElement({'Month': '7', 'Day': '27', 'Year': '2015'}, attributes={'PubStatus': 'accepted'}), DictElement({'Month': '8', 'Day': '11', 'Year': '2015'}, attributes={'PubStatus': 'epublish'}), DictElement({'Month': '10', 'Minute': '0', 'Day': '23', 'Year': '2015', 'Hour': '6'}, attributes={'PubStatus': 'entrez'}), DictElement({'Month': '10', 'Minute': '0', 'Day': '23', 'Year': '2015', 'Hour': '6'}, attributes={'PubStatus': 'pubmed'}), DictElement({'Month': '10', 'Minute': '0', 'Day': '23', 'Year': '2015', 'Hour': '6'}, attributes={'PubStatus': 'medline'})]}, 'MedlineCitation': DictElement({'SpaceFlightMission': [], 'MedlineJournalInfo': {'MedlineTA': 'Metabolomics', 'NlmUniqueID': '101274889'}, 'GeneralNote': [], 'Article': DictElement({'Pagination': {'MedlinePgn': '1848-1863'}, 'Language': ['ENG'], 'PublicationTypeList': [StringElement('JOURNAL ARTICLE', attributes={'UI': ''})], 'AuthorList': ListElement([DictElement({'AffiliationInfo': [{'Identifier': [], 'Affiliation': 'Li Ka Shing Centre, Cancer Research UK Cambridge Institute, University of Cambridge, Robinson Way, Cambridge, CB2 0RE UK.'}], 'ForeName': 'Basetti', 'Identifier': [], 'Initials': 'B', 'LastName': 'Madhu'}, attributes={'ValidYN': 'Y'}), DictElement({'AffiliationInfo': [{'Identifier': [], 'Affiliation': 'Li Ka Shing Centre, Cancer Research UK Cambridge Institute, University of Cambridge, Robinson Way, Cambridge, CB2 0RE UK.'}], 'ForeName': 'Masako', 'Identifier': [], 'Initials': 'M', 'LastName': 'Narita'}, attributes={'ValidYN': 'Y'}), DictElement({'AffiliationInfo': [{'Identifier': [], 'Affiliation': 'Department of Medical Epidemiology and Biostatistics, Karolinska Institutet, Stockholm, Sweden ; Early Clinical Biometrics, AstraZeneca AB R&D, Mölndal, Sweden.'}], 'ForeName': 'Alexandra', 'Identifier': [], 'Initials': 'A', 'LastName': 'Jauhiainen'}, attributes={'ValidYN': 'Y'}), DictElement({'AffiliationInfo': [{'Identifier': [], 'Affiliation': 'Li Ka Shing Centre, Cancer Research UK Cambridge Institute, University of Cambridge, Robinson Way, Cambridge, CB2 0RE UK.'}], 'ForeName': 'Suraj', 'Identifier': [], 'Initials': 'S', 'LastName': 'Menon'}, attributes={'ValidYN': 'Y'}), DictElement({'AffiliationInfo': [{'Identifier': [], 'Affiliation': 'Li Ka Shing Centre, Cancer Research UK Cambridge Institute, University of Cambridge, Robinson Way, Cambridge, CB2 0RE UK.'}], 'ForeName': 'Marion', 'Identifier': [], 'Initials': 'M', 'LastName': 'Stubbs'}, attributes={'ValidYN': 'Y'}), DictElement({'AffiliationInfo': [{'Identifier': [], 'Affiliation': 'Li Ka Shing Centre, Cancer Research UK Cambridge Institute, University of Cambridge, Robinson Way, Cambridge, CB2 0RE UK.'}], 'ForeName': 'Simon', 'Identifier': [], 'Initials': 'S', 'LastName': 'Tavaré'}, attributes={'ValidYN': 'Y'}), DictElement({'AffiliationInfo': [{'Identifier': [], 'Affiliation': 'Li Ka Shing Centre, Cancer Research UK Cambridge Institute, University of Cambridge, Robinson Way, Cambridge, CB2 0RE UK.'}], 'ForeName': 'Masashi', 'Identifier': [], 'Initials': 'M', 'LastName': 'Narita'}, attributes={'ValidYN': 'Y'}), DictElement({'AffiliationInfo': [{'Identifier': [], 'Affiliation': 'Li Ka Shing Centre, Cancer Research UK Cambridge Institute, University of Cambridge, Robinson Way, Cambridge, CB2 0RE UK.'}], 'ForeName': 'John R', 'Identifier': [], 'Initials': 'JR', 'LastName': 'Griffiths'}, attributes={'ValidYN': 'Y'})], attributes={'CompleteYN': 'Y', 'Type': 'authors'}), 'ArticleDate': [DictElement({'Month': '8', 'Day': '11', 'Year': '2015'}, attributes={'DateType': 'Electronic'})], 'ELocationID': [], 'Journal': {'Title': 'Metabolomics : Official journal of the Metabolomic Society', 'ISSN': StringElement('1573-3882', attributes={'IssnType': 'Print'}), 'JournalIssue': DictElement({'Volume': '11', 'Issue': '6', 'PubDate': {'MedlineDate': '2015'}}, attributes={'CitedMedium': 'Print'}), 'ISOAbbreviation': 'Metabolomics'}, 'Abstract': {'AbstractText': [StringElement('To investigate metabolic changes during cellular transformation, we used a (1)H NMR based metabolite-metabolite correlation analysis (MMCA) method, which permits analysis of homeostatic mechanisms in cells at the steady state, in an inducible cell transformation model. Transcriptomic data were used to further explain the results. Transformed cells showed many more metabolite-metabolite correlations than control cells. Some had intuitively plausible explanations: a shift from glycolysis to amino acid oxidation after transformation was accompanied by a strongly positive correlation between glucose and glutamine and a strongly negative one between lactate and glutamate; there were also many correlations between the branched chain amino acids and the aromatic amino acids. Others remain puzzling: after transformation strong positive correlations developed between choline and a group of five amino acids, whereas the same amino acids showed negative correlations with phosphocholine, a membrane phospholipid precursor. MMCA in conjunction with transcriptome analysis has opened a new window into the metabolome.', attributes={'NlmCategory': 'UNASSIGNED'})]}, 'ArticleTitle': 'Metabolomic changes during cellular transformation monitored by metabolite-metabolite correlation analysis and correlated with gene expression.'}, attributes={'PubModel': 'Print-Electronic'}), 'KeywordList': [ListElement([StringElement('Cellular transformation', attributes={'MajorTopicYN': 'N'}), StringElement('Metabolite correlations', attributes={'MajorTopicYN': 'N'}), StringElement('Metabolomics', attributes={'MajorTopicYN': 'N'}), StringElement('NMR', attributes={'MajorTopicYN': 'N'})], attributes={'Owner': 'NOTNLM'})], 'CitationSubset': [], 'DateRevised': {'Month': '10', 'Day': '26', 'Year': '2015'}, 'DateCreated': {'Month': '10', 'Day': '22', 'Year': '2015'}, 'PMID': StringElement('26491426', attributes={'Version': '1'}), 'OtherID': [], 'OtherAbstract': []}, attributes={'Owner': 'NLM', 'Status': 'Publisher'})}"
      ]
     },
     "execution_count": 52,
     "metadata": {},
     "output_type": "execute_result"
    }
   ],
   "source": [
    "fetch_abstract(record['IdList'])"
   ]
  },
  {
   "cell_type": "code",
   "execution_count": 29,
   "metadata": {
    "collapsed": false
   },
   "outputs": [
    {
     "data": {
      "text/plain": [
       "<Bio._py3k._binary_to_string_handle.<locals>.EvilHandleHack at 0x104b75668>"
      ]
     },
     "execution_count": 29,
     "metadata": {},
     "output_type": "execute_result"
    }
   ],
   "source": [
    "handle"
   ]
  },
  {
   "cell_type": "code",
   "execution_count": 53,
   "metadata": {
    "collapsed": false
   },
   "outputs": [
    {
     "ename": "ImportError",
     "evalue": "No module named 'networkit'",
     "output_type": "error",
     "traceback": [
      "\u001b[0;31m---------------------------------------------------------------------------\u001b[0m",
      "\u001b[0;31mImportError\u001b[0m                               Traceback (most recent call last)",
      "\u001b[0;32m<ipython-input-53-72c757e930cf>\u001b[0m in \u001b[0;36m<module>\u001b[0;34m()\u001b[0m\n\u001b[0;32m----> 1\u001b[0;31m \u001b[0;32mimport\u001b[0m \u001b[0mnetworkit\u001b[0m\u001b[0;34m\u001b[0m\u001b[0m\n\u001b[0m",
      "\u001b[0;31mImportError\u001b[0m: No module named 'networkit'"
     ]
    }
   ],
   "source": [
    "import networkit"
   ]
  },
  {
   "cell_type": "code",
   "execution_count": null,
   "metadata": {
    "collapsed": true
   },
   "outputs": [],
   "source": []
  }
 ],
 "metadata": {
  "kernelspec": {
   "display_name": "Python 3",
   "language": "python",
   "name": "python3"
  },
  "language_info": {
   "codemirror_mode": {
    "name": "ipython",
    "version": 3
   },
   "file_extension": ".py",
   "mimetype": "text/x-python",
   "name": "python",
   "nbconvert_exporter": "python",
   "pygments_lexer": "ipython3",
   "version": "3.5.1"
  }
 },
 "nbformat": 4,
 "nbformat_minor": 0
}
